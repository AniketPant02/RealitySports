{
 "cells": [
  {
   "cell_type": "markdown",
   "id": "3e16146d-0016-4fc5-865d-e3fe554ab03a",
   "metadata": {},
   "source": [
    "# This notebook is for processing files in a single ZIP. \n",
    "\n",
    "R3D export has been converted to ZIP. ZIP has been unzipped already.\n",
    "\n",
    "*Aniket Pant, GT MSE*"
   ]
  },
  {
   "cell_type": "code",
   "execution_count": 25,
   "id": "68aa50d0-2cc4-4ba7-a0da-8dea2f340887",
   "metadata": {},
   "outputs": [],
   "source": [
    "import os\n",
    "import numpy as np\n",
    "import json\n",
    "from tqdm import tqdm_notebook"
   ]
  },
  {
   "cell_type": "code",
   "execution_count": 26,
   "id": "9421fcec-24aa-4abc-a419-4204910938e1",
   "metadata": {},
   "outputs": [],
   "source": [
    "base_dir = \"./RacketballTake1\"\n",
    "rgbd_dir = f\"{base_dir}/rgbd/\"\n",
    "metadata_dir = f'{base_dir}/metadata'"
   ]
  },
  {
   "cell_type": "code",
   "execution_count": 27,
   "id": "04f5d9a9-f8e1-4cd7-bff1-63c58a2727a2",
   "metadata": {
    "tags": []
   },
   "outputs": [],
   "source": [
    "def find_file_by_type(file_type, search_dir):\n",
    "    files = [f'{y}{file_type}' for y in sorted(list(map(lambda n: n.split('.')[0], [x for x in sorted(os.listdir(search_dir)) if file_type in x])), key=int)]\n",
    "    return files"
   ]
  },
  {
   "cell_type": "code",
   "execution_count": 28,
   "id": "bc8c1ff5-331d-41ed-8a17-dbc339f04f9b",
   "metadata": {},
   "outputs": [],
   "source": [
    "# find all .conf, .depth, and .jpg files.\n",
    "conf_files = find_file_by_type('.conf', rgbd_dir)\n",
    "depth_files = find_file_by_type('.depth', rgbd_dir)\n",
    "jpg_files = find_file_by_type('.jpg', rgbd_dir)"
   ]
  },
  {
   "cell_type": "code",
   "execution_count": 29,
   "id": "d5f9f6eb-4e19-42fa-841a-66a3230867f3",
   "metadata": {},
   "outputs": [],
   "source": [
    "with open(metadata_dir) as f:\n",
    "    metadata = json.load(f)\n",
    "    f.close()"
   ]
  },
  {
   "cell_type": "code",
   "execution_count": 30,
   "id": "5e082a56-a76a-4a13-9ee6-5c7cc09eeebd",
   "metadata": {},
   "outputs": [],
   "source": [
    "num_pics = 150\n",
    "num_samples = len(conf_files)\n",
    "interval = num_samples // num_pics\n",
    "newFrameTimestamps = []\n",
    "newPoses = []"
   ]
  },
  {
   "cell_type": "code",
   "execution_count": 31,
   "id": "346f7e38-3325-4c34-8e63-6e3751932a0a",
   "metadata": {},
   "outputs": [
    {
     "name": "stderr",
     "output_type": "stream",
     "text": [
      "<ipython-input-31-34e21cadb6be>:1: TqdmDeprecationWarning: This function will be removed in tqdm==5.0.0\n",
      "Please use `tqdm.notebook.tqdm` instead of `tqdm.tqdm_notebook`\n",
      "  for idx in tqdm_notebook(range(num_samples)):\n"
     ]
    },
    {
     "data": {
      "application/vnd.jupyter.widget-view+json": {
       "model_id": "a18f739ac2324c2e8d261cd41e2843ea",
       "version_major": 2,
       "version_minor": 0
      },
      "text/plain": [
       "  0%|          | 0/3208 [00:00<?, ?it/s]"
      ]
     },
     "metadata": {},
     "output_type": "display_data"
    }
   ],
   "source": [
    "for idx in tqdm_notebook(range(num_samples)):\n",
    "    if idx % interval == 0:\n",
    "        newFrameTimestamps.append(metadata['frameTimestamps'][idx])\n",
    "        newPoses.append(metadata['poses'][idx])\n",
    "    else:\n",
    "        for file_type in ['.conf', '.depth', '.jpg']:\n",
    "            os.remove(f'{rgbd_dir}{idx}{file_type}')"
   ]
  },
  {
   "cell_type": "code",
   "execution_count": 32,
   "id": "f9dfa6a8-364b-4134-b816-a612ae4647a6",
   "metadata": {},
   "outputs": [],
   "source": [
    "metadata['frameTimestamps'] = newFrameTimestamps\n",
    "metadata['poses'] = newPoses"
   ]
  },
  {
   "cell_type": "code",
   "execution_count": 33,
   "id": "3d04b025-a0c5-472e-9a20-fff5cf406c63",
   "metadata": {},
   "outputs": [],
   "source": [
    "with open(metadata_dir, \"w\") as f:\n",
    "    json.dump(metadata, f)"
   ]
  },
  {
   "cell_type": "code",
   "execution_count": 34,
   "id": "ec7e8026-e09f-4dfb-88db-697f10476a7d",
   "metadata": {},
   "outputs": [
    {
     "name": "stdout",
     "output_type": "stream",
     "text": [
      "153\n"
     ]
    }
   ],
   "source": [
    "# check edit\n",
    "with open(metadata_dir) as f:\n",
    "    metadata = json.load(f)\n",
    "    \n",
    "print(len(metadata['frameTimestamps']))"
   ]
  },
  {
   "cell_type": "markdown",
   "id": "1d88443c-cfef-4e9d-9105-9d9d9619185c",
   "metadata": {},
   "source": [
    "# ReWriting filenames to be iterated"
   ]
  },
  {
   "cell_type": "code",
   "execution_count": 35,
   "id": "6946923f-648a-4750-8c74-3179f04ef00b",
   "metadata": {},
   "outputs": [],
   "source": [
    "# find all .conf, .depth, and .jpg files.\n",
    "filt_conf_files = find_file_by_type('.conf', rgbd_dir)\n",
    "filt_depth_files = find_file_by_type('.depth', rgbd_dir)\n",
    "filt_jpg_files = find_file_by_type('.jpg', rgbd_dir)"
   ]
  },
  {
   "cell_type": "code",
   "execution_count": 36,
   "id": "051eabef-b857-4b65-88f5-45bda7a3de59",
   "metadata": {},
   "outputs": [],
   "source": [
    "for i in range(len(filt_conf_files)):\n",
    "    src = filt_conf_files[i]\n",
    "    os.rename(f\"{rgbd_dir}{src}\", f\"{rgbd_dir}{i}.conf\")\n",
    "    src = filt_depth_files[i]\n",
    "    os.rename(f\"{rgbd_dir}{src}\", f\"{rgbd_dir}{i}.depth\")\n",
    "    src = filt_jpg_files[i]\n",
    "    os.rename(f\"{rgbd_dir}{src}\", f\"{rgbd_dir}{i}.jpg\")"
   ]
  },
  {
   "cell_type": "code",
   "execution_count": null,
   "id": "b2d97643-28e9-4ad7-896a-d53c9ed030ed",
   "metadata": {},
   "outputs": [],
   "source": []
  }
 ],
 "metadata": {
  "kernelspec": {
   "display_name": "Python 3",
   "language": "python",
   "name": "python3"
  },
  "language_info": {
   "codemirror_mode": {
    "name": "ipython",
    "version": 3
   },
   "file_extension": ".py",
   "mimetype": "text/x-python",
   "name": "python",
   "nbconvert_exporter": "python",
   "pygments_lexer": "ipython3",
   "version": "3.8.8"
  }
 },
 "nbformat": 4,
 "nbformat_minor": 5
}
